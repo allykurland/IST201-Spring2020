{
  "nbformat": 4,
  "nbformat_minor": 0,
  "metadata": {
    "colab": {
      "name": "PetShop.ipynb",
      "provenance": [],
      "authorship_tag": "ABX9TyNkNz4z2e3rjzwNUY1z1cly",
      "include_colab_link": true
    },
    "kernelspec": {
      "name": "python3",
      "display_name": "Python 3"
    }
  },
  "cells": [
    {
      "cell_type": "markdown",
      "metadata": {
        "id": "view-in-github",
        "colab_type": "text"
      },
      "source": [
        "<a href=\"https://colab.research.google.com/github/allykurland/IST201-Spring2020/blob/master/PetShop.ipynb\" target=\"_parent\"><img src=\"https://colab.research.google.com/assets/colab-badge.svg\" alt=\"Open In Colab\"/></a>"
      ]
    },
    {
      "cell_type": "code",
      "metadata": {
        "id": "UMywKlALOU9y",
        "colab_type": "code",
        "colab": {}
      },
      "source": [
        ""
      ],
      "execution_count": 0,
      "outputs": []
    },
    {
      "cell_type": "markdown",
      "metadata": {
        "id": "vHNCODSaPXgZ",
        "colab_type": "text"
      },
      "source": [
        "## Description\n",
        "For my pet shop diagram I used the tables: animal purchases, enclosures, pet food, food purchases, loyalty ID, and customer.  I used these tables because these are the main components of the sales made at pet shops.  The primary keys that I chose for each table represent the unique value of each table that helps to quickly identify it.  The customers are the ones who buy the different items at the pet shop.  The Customers table and the Loyaly ID tables are connected because when customers buy items at the pet shop they are given a loyalty ID for future purchases that help the shop identify them.  The other four tables are connected because they are the items in the shop up for purchase by the customer.  Animal Purchases and Food Purchases are connected through the AnimalID because that allows the customer and the employee know what food is necessary for each type of animal.  The Enclosures and Animal Purchases are connected though EnclosureSerialNumber due to the different sizes and specifications needed for different animal types.  Pet Food and Animal Purchases are connected through the AnimalID much like food purchases it allows the customer to know what food type is best for their animal.  The LoyaltyID is connected to Food Purchases and Pet Food because it allows the store to track the purchases of their customers in order to add it to their loyalty account and possibly give them a discount in the future.  Overall, I designed my ER diagram this way because it helps to quickly identify the components of each table including the primary and foreign keys.  It also allows for each table to be connected in some way."
      ]
    },
    {
      "cell_type": "markdown",
      "metadata": {
        "id": "CFp-JwuwOb-7",
        "colab_type": "text"
      },
      "source": [
        "![alt text](https://raw.githubusercontent.com/allykurland/IST201-Spring2020/master/Pet%20Shop/Pet%20Shop.png)"
      ]
    }
  ]
}