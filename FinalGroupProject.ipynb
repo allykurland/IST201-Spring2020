{
  "nbformat": 4,
  "nbformat_minor": 0,
  "metadata": {
    "colab": {
      "name": "FinalGroupProject",
      "provenance": [],
      "collapsed_sections": [],
      "include_colab_link": true
    },
    "kernelspec": {
      "name": "python3",
      "display_name": "Python 3"
    }
  },
  "cells": [
    {
      "cell_type": "markdown",
      "metadata": {
        "id": "view-in-github",
        "colab_type": "text"
      },
      "source": [
        "<a href=\"https://colab.research.google.com/github/allykurland/IST201-Spring2020/blob/master/FinalGroupProject.ipynb\" target=\"_parent\"><img src=\"https://colab.research.google.com/assets/colab-badge.svg\" alt=\"Open In Colab\"/></a>"
      ]
    },
    {
      "cell_type": "markdown",
      "metadata": {
        "id": "kjUn-allL_5N",
        "colab_type": "text"
      },
      "source": [
        " **Introduction:**\n",
        "\n",
        "One of the most heavily affected industries due to the coronavirus is the movie and entertainment industry. For those reasons, we decided to revolve our project around a common activity we miss which is going to the movies. The operations of a cinema involve many transactions of information and that's where we started. Taking our own experiences of going to the cinema, we constructed what information must be stored and processed for the optimal movie experience. The way we got to our final ER Diagram was by thinking of what people, objects, and actions may be involved in going to the cinema. On top of this, we had to figure out how each of these relates to one another.\n",
        "\n",
        "\n"
      ]
    },
    {
      "cell_type": "markdown",
      "metadata": {
        "id": "PLCFbXjZMAGD",
        "colab_type": "text"
      },
      "source": [
        "**ER Diagram Specifics:**\n",
        "\n",
        "At the end of the day, cinemas cater to customers who must have a fun and efficient experience. In our ER diagram, we had customers have relationships with two other entities: ticket transactions and concession sales. The reason we did not have to have a customer relationship with the actual theatre room itself is because we assume that the theatre can only sell as many tickets as the amount of seats it has. This prevents what we call overbooking. As a result, we assume that if a ticket is bought for a certain movie in a certain room, then that seat is taken regardless if the person actually shows up or not. With our employees, we assume that the cinema only needs employees during showing times. If there is no movie, there will be no employee managing concessions ticket purchasing. For this reason, our employee entity is only connected to our movie entity.\n",
        "\n",
        "\n"
      ]
    },
    {
      "cell_type": "markdown",
      "metadata": {
        "id": "pj0mzCjPI3ZC",
        "colab_type": "text"
      },
      "source": [
        "**Scenario**:\n",
        "\n",
        "Let’s say a customer decides to watch a movie and he wants to check the start time, run time, end time for a movie. He can easily do this. All we require is a simple query for the table ‘Movie’, that contains the movie ID. Now if he wants to check the ticket price, our tables provide a way to do that as well. A query would be written for both tables ‘Movie’ and ’Ticket ID’ as “Movie_ID” is a foreign key in the table ‘Ticket ID ‘ and a primary key in the table ‘Movie’. When he decides which movie and at what time and wants to make a purchase, he is able to do this as well. He is also able to purchase items available at the theater and be eligible for a concession. There are tables –‘Ticket Transactions’, ’Customer’, and ‘Concession Sales’ that not only allow the customer to see ticket price and make a payment through different methods, but also assign him a unique customer ID.\n",
        "This database can also be used to check the employees on duty and the lengths of their shifts.\n",
        "So in general, this table can be used to get all details possible required by a movie theater, for its customers or employees.\n"
      ]
    },
    {
      "cell_type": "markdown",
      "metadata": {
        "id": "JfLcJVqJI3kh",
        "colab_type": "text"
      },
      "source": [
        "\n",
        "**How we created the database:** \n",
        "\n",
        "For this project, I first created the database “MovieTheater” followed by all six of the tables; Movie, Ticket Transaction, Theater, Employees, Concession Sales, and Customer. I made sure to drop the table if it already existed prior to creating each new table to avoid any errors or mix ups of information. Next, I populated each table with three values for each attribute. For example, the table “Employees” has a primary key followed by four more attributes. For that table, I input fifteen total values; three values for each of the five attributes, including the primary key. For the data itself, I tried to use pretty standard information such as for length of shift in the table “Employees”, I used numbers 4, 8, and 12, as those are the common lengths of shifts in minimum wage jobs in the U.S.\n"
      ]
    },
    {
      "cell_type": "markdown",
      "metadata": {
        "id": "gZBcNuMKq7Hq",
        "colab_type": "text"
      },
      "source": [
        "![alt text](https://raw.githubusercontent.com/hek5118/IST-210/master/final%20project1.png)"
      ]
    },
    {
      "cell_type": "code",
      "metadata": {
        "id": "Y7r6K6HkodlQ",
        "colab_type": "code",
        "outputId": "815aec60-6de7-4c83-af54-3a9bfc92314d",
        "colab": {
          "base_uri": "https://localhost:8080/",
          "height": 51
        }
      },
      "source": [
        "%load_ext sql"
      ],
      "execution_count": 0,
      "outputs": [
        {
          "output_type": "stream",
          "text": [
            "The sql extension is already loaded. To reload it, use:\n",
            "  %reload_ext sql\n"
          ],
          "name": "stdout"
        }
      ]
    },
    {
      "cell_type": "code",
      "metadata": {
        "id": "h4_CDVsuoc0J",
        "colab_type": "code",
        "outputId": "5adb8414-eeb9-413c-c0ad-545e225ff3f5",
        "colab": {
          "base_uri": "https://localhost:8080/",
          "height": 34
        }
      },
      "source": [
        "%%sql\n",
        "sqlite:///MovieTheater.db\n"
      ],
      "execution_count": 0,
      "outputs": [
        {
          "output_type": "execute_result",
          "data": {
            "text/plain": [
              "'Connected: @MovieTheater.db'"
            ]
          },
          "metadata": {
            "tags": []
          },
          "execution_count": 29
        }
      ]
    },
    {
      "cell_type": "code",
      "metadata": {
        "id": "MSHwbCm1oYhz",
        "colab_type": "code",
        "outputId": "895f7b23-a696-4012-8acf-4b613504086c",
        "colab": {
          "base_uri": "https://localhost:8080/",
          "height": 85
        }
      },
      "source": [
        "%%sql   \n",
        "DROP TABLE IF EXISTS Movie;\n",
        "CREATE TABLE Movie(MovieID text primary key, StartTime text, Runtime integer, EndTIme text, Title text, TicketID text , RoomNumber integer);"
      ],
      "execution_count": 0,
      "outputs": [
        {
          "output_type": "stream",
          "text": [
            " * sqlite:///MovieTheater.db\n",
            "Done.\n",
            "Done.\n"
          ],
          "name": "stdout"
        },
        {
          "output_type": "execute_result",
          "data": {
            "text/plain": [
              "[]"
            ]
          },
          "metadata": {
            "tags": []
          },
          "execution_count": 30
        }
      ]
    },
    {
      "cell_type": "code",
      "metadata": {
        "id": "ESWj16wbrnb6",
        "colab_type": "code",
        "outputId": "898b8548-9f70-45aa-8627-6d4566dd5efc",
        "colab": {
          "base_uri": "https://localhost:8080/",
          "height": 102
        }
      },
      "source": [
        "%%sql \n",
        "INSERT INTO Movie VALUES('273689','5:00 PM',60,'6:00','Jurassic Park','76349',2);\n",
        "INSERT INTO Movie VALUES('736294','7:00 PM',75,'8:15','Pineapple Express','93826',1);\n",
        "INSERT INTO Movie VALUES('928462','9:00 PM',90,'10:30','Perks of Being a Wallflower','57463',3);"
      ],
      "execution_count": 0,
      "outputs": [
        {
          "output_type": "stream",
          "text": [
            " * sqlite:///MovieTheater.db\n",
            "1 rows affected.\n",
            "1 rows affected.\n",
            "1 rows affected.\n"
          ],
          "name": "stdout"
        },
        {
          "output_type": "execute_result",
          "data": {
            "text/plain": [
              "[]"
            ]
          },
          "metadata": {
            "tags": []
          },
          "execution_count": 31
        }
      ]
    },
    {
      "cell_type": "code",
      "metadata": {
        "id": "Q0BNlmXLpQJh",
        "colab_type": "code",
        "outputId": "e040bb3b-684a-4a70-9e6d-d943a1d00e98",
        "colab": {
          "base_uri": "https://localhost:8080/",
          "height": 85
        }
      },
      "source": [
        "%%sql\n",
        "DROP TABLE IF EXISTS Ticket_Transaction;\n",
        "CREATE TABLE Ticket_Transaction(TicketID text primary key, TicketPrice real, PaymentMethod text, Ticket_Amount integer, MovieID text, TheaterNumber integer);"
      ],
      "execution_count": 0,
      "outputs": [
        {
          "output_type": "stream",
          "text": [
            " * sqlite:///MovieTheater.db\n",
            "Done.\n",
            "Done.\n"
          ],
          "name": "stdout"
        },
        {
          "output_type": "execute_result",
          "data": {
            "text/plain": [
              "[]"
            ]
          },
          "metadata": {
            "tags": []
          },
          "execution_count": 32
        }
      ]
    },
    {
      "cell_type": "code",
      "metadata": {
        "id": "x2JO2zyy8mvR",
        "colab_type": "code",
        "outputId": "32135a19-96e4-44d8-987d-333539f1ef30",
        "colab": {
          "base_uri": "https://localhost:8080/",
          "height": 102
        }
      },
      "source": [
        "%%sql\n",
        "INSERT INTO Ticket_Transaction VALUES('1B34A',8.99,'Cash',1,'736294',3);\n",
        "INSERT INTO Ticket_Transaction VALUES('13C5B',10.99,'Credit',2,'273689',2);\n",
        "INSERT INTO Ticket_Transaction VALUES('2B45A',9.99,'Debit',3,'273689',2);"
      ],
      "execution_count": 0,
      "outputs": [
        {
          "output_type": "stream",
          "text": [
            " * sqlite:///MovieTheater.db\n",
            "1 rows affected.\n",
            "1 rows affected.\n",
            "1 rows affected.\n"
          ],
          "name": "stdout"
        },
        {
          "output_type": "execute_result",
          "data": {
            "text/plain": [
              "[]"
            ]
          },
          "metadata": {
            "tags": []
          },
          "execution_count": 33
        }
      ]
    },
    {
      "cell_type": "code",
      "metadata": {
        "id": "KleQriWcpqv6",
        "colab_type": "code",
        "outputId": "85864120-3478-4fa4-b387-919a4b3da1da",
        "colab": {
          "base_uri": "https://localhost:8080/",
          "height": 85
        }
      },
      "source": [
        "%%sql\n",
        "DROP TABLE IF EXISTS Theater;\n",
        "CREATE TABLE Theater(Theater_Number integer primary key, Number_Of_Seats integer, Room_size text, TicketAmount integer);"
      ],
      "execution_count": 0,
      "outputs": [
        {
          "output_type": "stream",
          "text": [
            " * sqlite:///MovieTheater.db\n",
            "Done.\n",
            "Done.\n"
          ],
          "name": "stdout"
        },
        {
          "output_type": "execute_result",
          "data": {
            "text/plain": [
              "[]"
            ]
          },
          "metadata": {
            "tags": []
          },
          "execution_count": 34
        }
      ]
    },
    {
      "cell_type": "code",
      "metadata": {
        "id": "BOsS2F3y_fha",
        "colab_type": "code",
        "outputId": "04301b9f-c25b-47ef-9aec-2ca08693485e",
        "colab": {
          "base_uri": "https://localhost:8080/",
          "height": 102
        }
      },
      "source": [
        "%%sql\n",
        "INSERT INTO Theater VALUES(1,50,'medium',25);\n",
        "INSERT INTO Theater VALUES(2,50,'medium',14);\n",
        "INSERT INTO Theater VALUES(3,100,'large',70);"
      ],
      "execution_count": 0,
      "outputs": [
        {
          "output_type": "stream",
          "text": [
            " * sqlite:///MovieTheater.db\n",
            "1 rows affected.\n",
            "1 rows affected.\n",
            "1 rows affected.\n"
          ],
          "name": "stdout"
        },
        {
          "output_type": "execute_result",
          "data": {
            "text/plain": [
              "[]"
            ]
          },
          "metadata": {
            "tags": []
          },
          "execution_count": 35
        }
      ]
    },
    {
      "cell_type": "code",
      "metadata": {
        "id": "_YZF0uuLqF3w",
        "colab_type": "code",
        "outputId": "2f3d07ed-bbb1-429d-c3ca-54080867bfe8",
        "colab": {
          "base_uri": "https://localhost:8080/",
          "height": 85
        }
      },
      "source": [
        "%%sql\n",
        "DROP TABLE IF EXISTS Employees;\n",
        "CREATE TABLE Employees(Employee_ID text primary key, FirstName text, LastName text, LengthOfShift integer, MovieID text);"
      ],
      "execution_count": 0,
      "outputs": [
        {
          "output_type": "stream",
          "text": [
            " * sqlite:///MovieTheater.db\n",
            "Done.\n",
            "Done.\n"
          ],
          "name": "stdout"
        },
        {
          "output_type": "execute_result",
          "data": {
            "text/plain": [
              "[]"
            ]
          },
          "metadata": {
            "tags": []
          },
          "execution_count": 36
        }
      ]
    },
    {
      "cell_type": "code",
      "metadata": {
        "id": "PepozPGeBMnZ",
        "colab_type": "code",
        "outputId": "69be6809-d819-49c3-a2b2-e6a23cad003c",
        "colab": {
          "base_uri": "https://localhost:8080/",
          "height": 102
        }
      },
      "source": [
        "%%sql\n",
        "INSERT INTO Employees VALUES('1113','George','Smith',8,'273689');\n",
        "INSERT INTO Employees VALUES('1212','Sandy','Jones',12,'928462');\n",
        "INSERT INTO Employees VALUES('1311','Lisa','Song',4,'736294');"
      ],
      "execution_count": 0,
      "outputs": [
        {
          "output_type": "stream",
          "text": [
            " * sqlite:///MovieTheater.db\n",
            "1 rows affected.\n",
            "1 rows affected.\n",
            "1 rows affected.\n"
          ],
          "name": "stdout"
        },
        {
          "output_type": "execute_result",
          "data": {
            "text/plain": [
              "[]"
            ]
          },
          "metadata": {
            "tags": []
          },
          "execution_count": 37
        }
      ]
    },
    {
      "cell_type": "code",
      "metadata": {
        "id": "pql9Z3-CqUm-",
        "colab_type": "code",
        "outputId": "d365adb8-79a7-44d8-af4c-6f6532035376",
        "colab": {
          "base_uri": "https://localhost:8080/",
          "height": 85
        }
      },
      "source": [
        "%%sql\n",
        "DROP TABLE IF EXISTS Concession_Sales;\n",
        "CREATE TABLE Concession_Sales(ConcessionID text primary key, AmountPurchase real, NumItems integer, PaymentMethod text);"
      ],
      "execution_count": 0,
      "outputs": [
        {
          "output_type": "stream",
          "text": [
            " * sqlite:///MovieTheater.db\n",
            "Done.\n",
            "Done.\n"
          ],
          "name": "stdout"
        },
        {
          "output_type": "execute_result",
          "data": {
            "text/plain": [
              "[]"
            ]
          },
          "metadata": {
            "tags": []
          },
          "execution_count": 38
        }
      ]
    },
    {
      "cell_type": "code",
      "metadata": {
        "id": "Xy31NlzOEyYO",
        "colab_type": "code",
        "outputId": "6bf6209a-0232-4de8-fb5d-259fdfecd6a1",
        "colab": {
          "base_uri": "https://localhost:8080/",
          "height": 102
        }
      },
      "source": [
        "%%sql\n",
        "INSERT INTO Concession_Sales VALUES('12A',12.99,2,'credit');\n",
        "INSERT INTO Concession_Sales VALUES('14D',32.04,4,'cash');\n",
        "INSERT INTO Concession_Sales VALUES('3C',5.67,1,'debit');"
      ],
      "execution_count": 0,
      "outputs": [
        {
          "output_type": "stream",
          "text": [
            " * sqlite:///MovieTheater.db\n",
            "1 rows affected.\n",
            "1 rows affected.\n",
            "1 rows affected.\n"
          ],
          "name": "stdout"
        },
        {
          "output_type": "execute_result",
          "data": {
            "text/plain": [
              "[]"
            ]
          },
          "metadata": {
            "tags": []
          },
          "execution_count": 39
        }
      ]
    },
    {
      "cell_type": "code",
      "metadata": {
        "id": "UTGu11Tnqk5z",
        "colab_type": "code",
        "outputId": "b1512fdd-0bf0-4b0b-8474-ccca21db2874",
        "colab": {
          "base_uri": "https://localhost:8080/",
          "height": 85
        }
      },
      "source": [
        "%%sql\n",
        "DROP TABLE IF EXISTS Customer;\n",
        "CREATE TABLE Customer(CustomerID text primary key, PaymentMethod text, Name text, Age integer, TicketID text, ConcessionID text);"
      ],
      "execution_count": 0,
      "outputs": [
        {
          "output_type": "stream",
          "text": [
            " * sqlite:///MovieTheater.db\n",
            "Done.\n",
            "Done.\n"
          ],
          "name": "stdout"
        },
        {
          "output_type": "execute_result",
          "data": {
            "text/plain": [
              "[]"
            ]
          },
          "metadata": {
            "tags": []
          },
          "execution_count": 40
        }
      ]
    },
    {
      "cell_type": "code",
      "metadata": {
        "id": "vpE1Qom8FQYS",
        "colab_type": "code",
        "outputId": "88220d6f-e906-408b-e4cf-e9363881768a",
        "colab": {
          "base_uri": "https://localhost:8080/",
          "height": 102
        }
      },
      "source": [
        "%%sql\n",
        "INSERT INTO Customer VALUES('6732','cash','Johnson',27,'1B34A','12A');\n",
        "INSERT INTO Customer VALUES('8736','debit','Brennan',30,'2B45A','3C');\n",
        "INSERT INTO Customer VALUES('2837','credit','Porter',17,'13C5B','12D');"
      ],
      "execution_count": 0,
      "outputs": [
        {
          "output_type": "stream",
          "text": [
            " * sqlite:///MovieTheater.db\n",
            "1 rows affected.\n",
            "1 rows affected.\n",
            "1 rows affected.\n"
          ],
          "name": "stdout"
        },
        {
          "output_type": "execute_result",
          "data": {
            "text/plain": [
              "[]"
            ]
          },
          "metadata": {
            "tags": []
          },
          "execution_count": 41
        }
      ]
    },
    {
      "cell_type": "markdown",
      "metadata": {
        "id": "gxVflzQhyntj",
        "colab_type": "text"
      },
      "source": [
        "### 3 Queries"
      ]
    },
    {
      "cell_type": "code",
      "metadata": {
        "id": "UTLpbMVxBKNy",
        "colab_type": "code",
        "outputId": "7e50145b-0f8c-42ef-f01c-ff6a93697b19",
        "colab": {
          "base_uri": "https://localhost:8080/",
          "height": 95
        }
      },
      "source": [
        "%%sql\n",
        "SELECT COUNT(Theater_Number) from Theater;"
      ],
      "execution_count": 0,
      "outputs": [
        {
          "output_type": "stream",
          "text": [
            " * sqlite:///MovieTheater.db\n",
            "Done.\n"
          ],
          "name": "stdout"
        },
        {
          "output_type": "execute_result",
          "data": {
            "text/html": [
              "<table>\n",
              "    <tr>\n",
              "        <th>COUNT(Theater_Number)</th>\n",
              "    </tr>\n",
              "    <tr>\n",
              "        <td>3</td>\n",
              "    </tr>\n",
              "</table>"
            ],
            "text/plain": [
              "[(3,)]"
            ]
          },
          "metadata": {
            "tags": []
          },
          "execution_count": 42
        }
      ]
    },
    {
      "cell_type": "markdown",
      "metadata": {
        "id": "35XZ9D13CPPz",
        "colab_type": "text"
      },
      "source": [
        "Knowing the number of theaters in the building is important for the movie theater company.  This tells them how many movies they can show and at what times.  It is also important for ticket sales.  Knowing how many theaters and the number of seats in the theaters tells the box office just how many tickets it can sell for each movie.  "
      ]
    },
    {
      "cell_type": "code",
      "metadata": {
        "id": "ddzjXZPFC6rX",
        "colab_type": "code",
        "outputId": "74b70def-1544-411d-c8ee-a3082d2f68f2",
        "colab": {
          "base_uri": "https://localhost:8080/",
          "height": 95
        }
      },
      "source": [
        "%%sql\n",
        "SELECT Min(LengthOfShift), Max(LengthOfShift) from Employees;"
      ],
      "execution_count": 0,
      "outputs": [
        {
          "output_type": "stream",
          "text": [
            " * sqlite:///MovieTheater.db\n",
            "Done.\n"
          ],
          "name": "stdout"
        },
        {
          "output_type": "execute_result",
          "data": {
            "text/html": [
              "<table>\n",
              "    <tr>\n",
              "        <th>Min(LengthOfShift)</th>\n",
              "        <th>Max(LengthOfShift)</th>\n",
              "    </tr>\n",
              "    <tr>\n",
              "        <td>4</td>\n",
              "        <td>12</td>\n",
              "    </tr>\n",
              "</table>"
            ],
            "text/plain": [
              "[(4, 12)]"
            ]
          },
          "metadata": {
            "tags": []
          },
          "execution_count": 43
        }
      ]
    },
    {
      "cell_type": "markdown",
      "metadata": {
        "id": "z9NHSBnYDg76",
        "colab_type": "text"
      },
      "source": [
        "This query will help the movie theater better schedule its employees. Knowing how long each shift is can also tell them how big of a break to give each employee and for how long, as well as inform new employees about what to expect. Employees with longer shifts would need more breaks and possibly longer ones in order to get food, or even take a nap during their break."
      ]
    },
    {
      "cell_type": "code",
      "metadata": {
        "id": "fkTPtMULG-hj",
        "colab_type": "code",
        "outputId": "841f52b8-6e91-4877-f6d3-75d485bdc4d8",
        "colab": {
          "base_uri": "https://localhost:8080/",
          "height": 95
        }
      },
      "source": [
        "%%sql\n",
        "SELECT AVG(Age) from Customer;"
      ],
      "execution_count": 0,
      "outputs": [
        {
          "output_type": "stream",
          "text": [
            " * sqlite:///MovieTheater.db\n",
            "Done.\n"
          ],
          "name": "stdout"
        },
        {
          "output_type": "execute_result",
          "data": {
            "text/html": [
              "<table>\n",
              "    <tr>\n",
              "        <th>AVG(Age)</th>\n",
              "    </tr>\n",
              "    <tr>\n",
              "        <td>24.666666666666668</td>\n",
              "    </tr>\n",
              "</table>"
            ],
            "text/plain": [
              "[(24.666666666666668,)]"
            ]
          },
          "metadata": {
            "tags": []
          },
          "execution_count": 44
        }
      ]
    },
    {
      "cell_type": "markdown",
      "metadata": {
        "id": "KjXxEoT_HIJk",
        "colab_type": "text"
      },
      "source": [
        "It's important for the movie theater to know the average age of its customers, so they can better tailor their snacks, decorations, and advertisements around the theater to them.  These are the customers that are usually at the theater, so if the snacks and other items around the theater are more geared towards them, they would probably be more likely to spend more money."
      ]
    }
  ]
}