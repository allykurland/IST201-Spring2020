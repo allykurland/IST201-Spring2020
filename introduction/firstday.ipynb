{
  "nbformat": 4,
  "nbformat_minor": 0,
  "metadata": {
    "colab": {
      "name": "1/15/20",
      "provenance": [],
      "authorship_tag": "ABX9TyP9vqgbjCiaaCs+nGMnKvNW",
      "include_colab_link": true
    },
    "kernelspec": {
      "name": "python3",
      "display_name": "Python 3"
    }
  },
  "cells": [
    {
      "cell_type": "markdown",
      "metadata": {
        "id": "view-in-github",
        "colab_type": "text"
      },
      "source": [
        "<a href=\"https://colab.research.google.com/github/allykurland/IST201-Spring2020/blob/master/introduction/firstday.ipynb\" target=\"_parent\"><img src=\"https://colab.research.google.com/assets/colab-badge.svg\" alt=\"Open In Colab\"/></a>"
      ]
    },
    {
      "cell_type": "code",
      "metadata": {
        "id": "jXNGGjhYzfzP",
        "colab_type": "code",
        "colab": {
          "base_uri": "https://localhost:8080/",
          "height": 34
        },
        "outputId": "b163fad0-79ce-4138-f11a-9f2c61650cfe"
      },
      "source": [
        "2+2\n"
      ],
      "execution_count": 7,
      "outputs": [
        {
          "output_type": "execute_result",
          "data": {
            "text/plain": [
              "4"
            ]
          },
          "metadata": {
            "tags": []
          },
          "execution_count": 7
        }
      ]
    },
    {
      "cell_type": "markdown",
      "metadata": {
        "id": "4oY245Hbzyif",
        "colab_type": "text"
      },
      "source": [
        ""
      ]
    },
    {
      "cell_type": "code",
      "metadata": {
        "id": "65ixKCaxzzEh",
        "colab_type": "code",
        "colab": {
          "base_uri": "https://localhost:8080/",
          "height": 34
        },
        "outputId": "572dd324-c782-4bdb-a315-0646e2ca1db4"
      },
      "source": [
        "2+3"
      ],
      "execution_count": 5,
      "outputs": [
        {
          "output_type": "execute_result",
          "data": {
            "text/plain": [
              "5"
            ]
          },
          "metadata": {
            "tags": []
          },
          "execution_count": 5
        }
      ]
    },
    {
      "cell_type": "markdown",
      "metadata": {
        "id": "AQ68wf7V0lCD",
        "colab_type": "text"
      },
      "source": [
        "# this is my header"
      ]
    },
    {
      "cell_type": "markdown",
      "metadata": {
        "id": "fjIk0cniz9Uy",
        "colab_type": "text"
      },
      "source": [
        "2+2\n",
        "This is **my** first notebook\n",
        "**bold text**\n"
      ]
    },
    {
      "cell_type": "markdown",
      "metadata": {
        "id": "wcJVPk5802Aj",
        "colab_type": "text"
      },
      "source": [
        "![alt text](https://raw.githubusercontent.com/allykurland/IST201-Spring2020/master/Introduction/Allison%20Kurland%20Headshot.png\n",
        ")"
      ]
    }
  ]
}