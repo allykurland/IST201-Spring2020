{
  "nbformat": 4,
  "nbformat_minor": 0,
  "metadata": {
    "colab": {
      "name": "Untitled0.ipynb",
      "provenance": [],
      "authorship_tag": "ABX9TyODyLyKNRe1iJNMMllN32Y0",
      "include_colab_link": true
    },
    "kernelspec": {
      "name": "python3",
      "display_name": "Python 3"
    }
  },
  "cells": [
    {
      "cell_type": "markdown",
      "metadata": {
        "id": "view-in-github",
        "colab_type": "text"
      },
      "source": [
        "<a href=\"https://colab.research.google.com/github/allykurland/IST201-Spring2020/blob/master/Untitled0.ipynb\" target=\"_parent\"><img src=\"https://colab.research.google.com/assets/colab-badge.svg\" alt=\"Open In Colab\"/></a>"
      ]
    },
    {
      "cell_type": "markdown",
      "metadata": {
        "id": "M02HgARuE7Lv",
        "colab_type": "text"
      },
      "source": [
        "#### Name\n",
        "Allison Kurland"
      ]
    },
    {
      "cell_type": "markdown",
      "metadata": {
        "id": "3hL6iYHZFSAY",
        "colab_type": "text"
      },
      "source": [
        "### IST Interests\n",
        "My interest is Security Risk Analysis, and learning the intelligence side of information."
      ]
    },
    {
      "cell_type": "markdown",
      "metadata": {
        "id": "fUPJUGhbFdJ5",
        "colab_type": "text"
      },
      "source": [
        "### Future Job/Career\n",
        "I would like to work in the federal police force in the intelligence community."
      ]
    },
    {
      "cell_type": "markdown",
      "metadata": {
        "id": "Sbx52rbtGBo4",
        "colab_type": "text"
      },
      "source": [
        "### Picture\n",
        "![alt text](https://raw.githubusercontent.com/allykurland/IST201-Spring2020/master/59941568509__0BDF164E-BF03-4547-A415-DE07196E556A.jpeg)"
      ]
    }
  ]
}